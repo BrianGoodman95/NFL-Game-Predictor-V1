{
 "cells": [
  {
   "cell_type": "code",
   "execution_count": 3,
   "metadata": {},
   "outputs": [
    {
     "data": {
      "text/plain": [
       "<module 'Data_Evaluation' from 'E:/Project Stuff/NFL Data Analysis/NFL Game Predictor V1/Analysis_Tools/Notebook Analysis\\\\Data_Evaluation.py'>"
      ]
     },
     "execution_count": 3,
     "metadata": {},
     "output_type": "execute_result"
    }
   ],
   "source": [
    "import sys\n",
    "# sys.path.insert(0, '/datadrive/home/gb/notebooks/Testing/Cycler_Analysis_Tool')\n",
    "sys.path.insert(0, \"E:/Project Stuff/NFL Data Analysis/NFL Game Predictor V1/Analysis_Tools/Notebook Analysis\")\n",
    "import Data_Evaluation as DE\n",
    "from importlib import reload\n",
    "reload(DE)"
   ]
  }
 ],
 "metadata": {
  "kernelspec": {
   "display_name": "Python 3",
   "language": "python",
   "name": "python3"
  },
  "language_info": {
   "codemirror_mode": {
    "name": "ipython",
    "version": 3
   },
   "file_extension": ".py",
   "mimetype": "text/x-python",
   "name": "python",
   "nbconvert_exporter": "python",
   "pygments_lexer": "ipython3",
   "version": "3.7.6"
  }
 },
 "nbformat": 4,
 "nbformat_minor": 4
}
